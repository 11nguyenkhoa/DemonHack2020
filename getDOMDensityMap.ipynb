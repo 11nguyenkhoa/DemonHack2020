{
 "cells": [
  {
   "cell_type": "code",
   "execution_count": 1,
   "metadata": {},
   "outputs": [],
   "source": [
    "#!pip install shapely"
   ]
  },
  {
   "cell_type": "code",
   "execution_count": 2,
   "metadata": {},
   "outputs": [],
   "source": [
    "import pickle\n",
    "import math\n",
    "from shapely.geometry import Polygon"
   ]
  },
  {
   "cell_type": "code",
   "execution_count": 3,
   "metadata": {},
   "outputs": [],
   "source": [
    "with open('DOMMatrix', 'rb') as f:\n",
    "        # dump information to that file\n",
    "    DOMMatrix = pickle.load(f)"
   ]
  },
  {
   "cell_type": "markdown",
   "metadata": {},
   "source": [
    "#### Convert to float from string"
   ]
  },
  {
   "cell_type": "code",
   "execution_count": 4,
   "metadata": {},
   "outputs": [],
   "source": [
    "DOMMatrix = [[float(cord) for cord in DOMMatrixEle] for DOMMatrixEle in DOMMatrix]"
   ]
  },
  {
   "cell_type": "code",
   "execution_count": 5,
   "metadata": {},
   "outputs": [],
   "source": [
    "top,right,bottom,left = 0,0,0,0\n",
    "maxList = [0,0,0,0]\n",
    "\n",
    "for element in DOMMatrix:\n",
    "    if element[1] < element[1]:\n",
    "        #print(\"greater!\")\n",
    "        maxList[1] = element[1]\n",
    "    if element[2] < element[2]:\n",
    "        #print(\"greater!\")\n",
    "        maxList[2] = element[2]\n"
   ]
  },
  {
   "cell_type": "code",
   "execution_count": 6,
   "metadata": {},
   "outputs": [],
   "source": [
    "def countWithinBox(x,y,boxes):\n",
    "    count = 0\n",
    "    for box in boxes:\n",
    "        if x > box[3] and x < box[1] and y > box[0] and y < box[2]:\n",
    "            count+=1  \n",
    "    return count"
   ]
  },
  {
   "cell_type": "code",
   "execution_count": 7,
   "metadata": {},
   "outputs": [],
   "source": [
    "import numpy as np\n",
    "dim = (190,120)\n",
    "matrix = np.zeros((dim[0],dim[1]))\n",
    "for x in range(0,dim[0]*10,10):\n",
    "    for y in range(0,dim[1]*10,10):\n",
    "        xindex=int(x/10)\n",
    "        yindex=int(y/10)\n",
    "        matrix[xindex,yindex] = countWithinBox(x,y,DOMMatrix)"
   ]
  },
  {
   "cell_type": "code",
   "execution_count": 8,
   "metadata": {},
   "outputs": [
    {
     "name": "stdout",
     "output_type": "stream",
     "text": [
      "1.0 0.0\n",
      "6.123233995736766e-17 1.0\n",
      "-1.0 1.2246467991473532e-16\n",
      "6.123233995736766e-17 -1.0\n"
     ]
    }
   ],
   "source": [
    "for radius in [0,math.pi/2,math.pi,-math.pi/2]:\n",
    "    print(math.cos(radius),math.sin(radius))"
   ]
  },
  {
   "cell_type": "code",
   "execution_count": 9,
   "metadata": {},
   "outputs": [],
   "source": [
    "def getGravityVec(x,y,boxes):\n",
    "    gravityLength = 200\n",
    "    radSumVec = []\n",
    "    for i,radius in enumerate([0,90,180,-90]):\n",
    "        radSum = 0\n",
    "        for j,length in enumerate(range(0,gravityLength,50)):\n",
    "            r = length\n",
    "            Cx = x - r * math.cos(math.radians(radius))\n",
    "            Cy = y - r * math.sin(math.radians(radius))\n",
    "            radSum += countWithinBox(Cx,Cy,boxes)*(1/(j+1)) #weighted by radius\n",
    "        radSumVec.append(radSum)\n",
    "    return radSumVec[2]-radSumVec[0],radSumVec[3]-radSumVec[1] #left,top,right,bottom"
   ]
  },
  {
   "cell_type": "code",
   "execution_count": 10,
   "metadata": {},
   "outputs": [
    {
     "data": {
      "text/plain": [
       "(-0.75, 0.1666666666666643)"
      ]
     },
     "execution_count": 10,
     "metadata": {},
     "output_type": "execute_result"
    }
   ],
   "source": [
    "getGravityVec(900,300,DOMMatrix)"
   ]
  },
  {
   "cell_type": "code",
   "execution_count": 11,
   "metadata": {},
   "outputs": [
    {
     "data": {
      "image/png": "[encoded data removed]",
      "text/plain": [
       "<Figure size 864x576 with 2 Axes>"
      ]
     },
     "metadata": {
      "needs_background": "light"
     },
     "output_type": "display_data"
    }
   ],
   "source": [
    "import matplotlib.pyplot as plt \n",
    "  \n",
    "figure = plt.figure(figsize=(12,8)) \n",
    "axes = figure.add_subplot(111) \n",
    "  \n",
    "# using the matshow() function  \n",
    "caxes = axes.matshow(matrix.T, interpolation ='nearest') \n",
    "figure.colorbar(caxes) \n",
    "plt.show() "
   ]
  },
  {
   "cell_type": "code",
   "execution_count": 12,
   "metadata": {},
   "outputs": [
    {
     "data": {
      "text/plain": [
       "[[0.0, 0.0], [1261.0, 0.0], [1261.0, 6754.390625], [0.0, 6754.390625]]"
      ]
     },
     "execution_count": 12,
     "metadata": {},
     "output_type": "execute_result"
    }
   ],
   "source": [
    "[[DOMMatrix[0][3],DOMMatrix[0][0]],[DOMMatrix[0][1],DOMMatrix[0][0]],[DOMMatrix[0][1],DOMMatrix[0][2]],[DOMMatrix[0][3],DOMMatrix[0][2]]]"
   ]
  }
 ],
 "metadata": {
  "kernelspec": {
   "display_name": "Python 3",
   "language": "python",
   "name": "python3"
  },
  "language_info": {
   "codemirror_mode": {
    "name": "ipython",
    "version": 3
   },
   "file_extension": ".py",
   "mimetype": "text/x-python",
   "name": "python",
   "nbconvert_exporter": "python",
   "pygments_lexer": "ipython3",
   "version": "3.8.3"
  }
 },
 "nbformat": 4,
 "nbformat_minor": 4
}
