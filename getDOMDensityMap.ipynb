{
 "cells": [
  {
   "cell_type": "code",
   "execution_count": 96,
   "metadata": {},
   "outputs": [],
   "source": [
    "#!pip install shapely"
   ]
  },
  {
   "cell_type": "code",
   "execution_count": 107,
   "metadata": {},
   "outputs": [],
   "source": [
    "import pickle\n",
    "from shapely.geometry import Polygon"
   ]
  },
  {
   "cell_type": "code",
   "execution_count": 108,
   "metadata": {},
   "outputs": [],
   "source": [
    "with open('DOMMatrix', 'rb') as f:\n",
    "        # dump information to that file\n",
    "    DOMMatrix = pickle.load(f)"
   ]
  },
  {
   "cell_type": "markdown",
   "metadata": {},
   "source": [
    "#### Convert to float from string"
   ]
  },
  {
   "cell_type": "code",
   "execution_count": 109,
   "metadata": {},
   "outputs": [],
   "source": [
    "DOMMatrix = [[float(cord) for cord in DOMMatrixEle] for DOMMatrixEle in DOMMatrix]"
   ]
  },
  {
   "cell_type": "code",
   "execution_count": 110,
   "metadata": {},
   "outputs": [],
   "source": [
    "top,right,bottom,left = 0,0,0,0\n",
    "maxList = [0,0,0,0]\n",
    "\n",
    "for element in DOMMatrix:\n",
    "    if item < element[1]:\n",
    "        #print(\"greater!\")\n",
    "        maxList[1] = element[1]\n",
    "    if item < element[2]:\n",
    "        #print(\"greater!\")\n",
    "        maxList[2] = element[2]\n"
   ]
  },
  {
   "cell_type": "code",
   "execution_count": 111,
   "metadata": {},
   "outputs": [],
   "source": [
    "def countWithinBox(x,y,boxes):\n",
    "    count = 0\n",
    "    for box in boxes:\n",
    "        if x > box[3] and x < box[1] and y > box[0] and y < box[2]:\n",
    "            count+=1  \n",
    "    return count"
   ]
  },
  {
   "cell_type": "code",
   "execution_count": 112,
   "metadata": {},
   "outputs": [],
   "source": [
    "import numpy as np\n",
    "dim = (190,120)\n",
    "matrix = np.zeros((dim[0],dim[1]))\n",
    "for x in range(0,dim[0]*10,10):\n",
    "    for y in range(0,dim[1]*10,10):\n",
    "        xindex=int(x/10)\n",
    "        yindex=int(y/10)\n",
    "        matrix[xindex,yindex] = countWithinBox(x,y,DOMMatrix)"
   ]
  },
  {
   "cell_type": "code",
   "execution_count": 113,
   "metadata": {},
   "outputs": [
    {
     "data": {
      "text/plain": [
       "array([[0., 0., 0., ..., 0., 0., 0.],\n",
       "       [0., 2., 2., ..., 2., 2., 2.],\n",
       "       [0., 2., 2., ..., 2., 2., 2.],\n",
       "       ...,\n",
       "       [0., 0., 0., ..., 0., 0., 0.],\n",
       "       [0., 0., 0., ..., 0., 0., 0.],\n",
       "       [0., 0., 0., ..., 0., 0., 0.]])"
      ]
     },
     "execution_count": 113,
     "metadata": {},
     "output_type": "execute_result"
    }
   ],
   "source": [
    "matrix"
   ]
  },
  {
   "cell_type": "code",
   "execution_count": 116,
   "metadata": {},
   "outputs": [
    {
     "data": {
      "image/png": "[encoded data removed]",
      "text/plain": [
       "<Figure size 864x576 with 2 Axes>"
      ]
     },
     "metadata": {
      "needs_background": "light"
     },
     "output_type": "display_data"
    }
   ],
   "source": [
    "import matplotlib.pyplot as plt \n",
    "  \n",
    "figure = plt.figure(figsize=(12,8)) \n",
    "axes = figure.add_subplot(111) \n",
    "  \n",
    "# using the matshow() function  \n",
    "caxes = axes.matshow(np.fliplr(matrix.T), interpolation ='nearest') \n",
    "figure.colorbar(caxes) \n",
    "plt.show() "
   ]
  },
  {
   "cell_type": "code",
   "execution_count": 27,
   "metadata": {},
   "outputs": [
    {
     "data": {
      "text/plain": [
       "[[0.0, 0.0],\n",
       " [1519.2000732421875, 0.0],\n",
       " [1519.2000732421875, 1474.550048828125],\n",
       " [0.0, 1474.550048828125]]"
      ]
     },
     "execution_count": 27,
     "metadata": {},
     "output_type": "execute_result"
    }
   ],
   "source": [
    "[[DOMMatrix[0][3],DOMMatrix[0][0]],[DOMMatrix[0][1],DOMMatrix[0][0]],[DOMMatrix[0][1],DOMMatrix[0][2]],[DOMMatrix[0][3],DOMMatrix[0][2]]]"
   ]
  },
  {
   "cell_type": "code",
   "execution_count": 40,
   "metadata": {},
   "outputs": [],
   "source": [
    "listofTuples = []\n",
    "for i, element in enumerate(DOMMatrix):\n",
    "    listofTuples.append(Polygon([[element[3],element[0]],[element[1],element[0]],[element[1],element[2]],[element[3],element[2]]]))"
   ]
  },
  {
   "cell_type": "code",
   "execution_count": 39,
   "metadata": {},
   "outputs": [
    {
     "data": {
      "image/svg+xml": [
       "<svg xmlns=\"http://www.w3.org/2000/svg\" xmlns:xlink=\"http://www.w3.org/1999/xlink\" width=\"300\" height=\"300\" viewBox=\"-60.7680029296875 -60.7680029296875 1640.7360791015626 1596.0860546875\" preserveAspectRatio=\"xMinYMin meet\"><g transform=\"matrix(1,0,0,-1,0,1474.550048828125)\"><path fill-rule=\"evenodd\" fill=\"#66cc99\" stroke=\"#555555\" stroke-width=\"10.938240527343751\" opacity=\"0.6\" d=\"M 0.0,0.0 L 1519.2000732421875,0.0 L 1519.2000732421875,1474.550048828125 L 0.0,1474.550048828125 L 0.0,0.0 z\" /></g></svg>"
      ],
      "text/plain": [
       "<shapely.geometry.polygon.Polygon at 0x22d6f6aa0a0>"
      ]
     },
     "execution_count": 39,
     "metadata": {},
     "output_type": "execute_result"
    }
   ],
   "source": [
    "for element in listofTuples:\n"
   ]
  },
  {
   "cell_type": "code",
   "execution_count": null,
   "metadata": {},
   "outputs": [],
   "source": []
  }
 ],
 "metadata": {
  "kernelspec": {
   "display_name": "Python 3",
   "language": "python",
   "name": "python3"
  },
  "language_info": {
   "codemirror_mode": {
    "name": "ipython",
    "version": 3
   },
   "file_extension": ".py",
   "mimetype": "text/x-python",
   "name": "python",
   "nbconvert_exporter": "python",
   "pygments_lexer": "ipython3",
   "version": "3.8.3"
  }
 },
 "nbformat": 4,
 "nbformat_minor": 4
}
